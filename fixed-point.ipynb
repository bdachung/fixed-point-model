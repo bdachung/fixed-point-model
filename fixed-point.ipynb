{
 "cells": [
  {
   "cell_type": "code",
   "execution_count": 1,
   "metadata": {
    "_cell_guid": "b1076dfc-b9ad-4769-8c92-a6c4dae69d19",
    "_uuid": "8f2839f25d086af736a60e9eeb907d3b93b6e0e5",
    "execution": {
     "iopub.execute_input": "2022-10-15T15:17:11.227985Z",
     "iopub.status.busy": "2022-10-15T15:17:11.227421Z",
     "iopub.status.idle": "2022-10-15T15:17:11.242613Z",
     "shell.execute_reply": "2022-10-15T15:17:11.241184Z",
     "shell.execute_reply.started": "2022-10-15T15:17:11.227923Z"
    }
   },
   "outputs": [],
   "source": [
    "import numpy as np\n",
    "import pandas as pd \n",
    "import os\n",
    "from utils import *\n",
    "from model import *"
   ]
  },
  {
   "cell_type": "code",
   "execution_count": 2,
   "metadata": {
    "execution": {
     "iopub.execute_input": "2022-10-15T15:17:19.636363Z",
     "iopub.status.busy": "2022-10-15T15:17:19.635872Z",
     "iopub.status.idle": "2022-10-15T15:17:40.785121Z",
     "shell.execute_reply": "2022-10-15T15:17:40.783398Z",
     "shell.execute_reply.started": "2022-10-15T15:17:19.636324Z"
    }
   },
   "outputs": [],
   "source": [
    "import numpy as np\n",
    "import random\n",
    "import math\n",
    "import os\n",
    "import matplotlib.pyplot as plt\n",
    "import matplotlib.cm as cm\n",
    "import pandas as pd\n",
    "import glob\n",
    "import torch\n",
    "import torch.nn as nn\n",
    "import torch.nn.functional as F\n",
    "import torchvision\n",
    "from torch.autograd import Variable\n",
    "import scipy.io\n",
    "import functools\n",
    "\n",
    "%matplotlib inline\n",
    "\n",
    "from math import sqrt\n",
    "from sklearn.metrics import mean_absolute_error\n",
    "from sklearn.metrics import mean_absolute_percentage_error\n",
    "from sklearn.metrics import mean_squared_error\n",
    "\n",
    "from scipy.signal import find_peaks\n",
    "\n",
    "from math import sqrt"
   ]
  },
  {
   "cell_type": "markdown",
   "metadata": {},
   "source": [
    "# Read data"
   ]
  },
  {
   "cell_type": "code",
   "execution_count": 3,
   "metadata": {
    "execution": {
     "iopub.execute_input": "2022-10-15T15:17:40.789539Z",
     "iopub.status.busy": "2022-10-15T15:17:40.788254Z",
     "iopub.status.idle": "2022-10-15T15:17:40.862273Z",
     "shell.execute_reply": "2022-10-15T15:17:40.860658Z",
     "shell.execute_reply.started": "2022-10-15T15:17:40.789495Z"
    }
   },
   "outputs": [],
   "source": [
    "concat_df = pd.read_csv(\"./data/concat_df.csv\")\n",
    "rest_df = pd.read_csv(\"./data/rest_df.csv\")"
   ]
  },
  {
   "cell_type": "code",
   "execution_count": 4,
   "metadata": {
    "execution": {
     "iopub.execute_input": "2022-10-15T15:17:40.864753Z",
     "iopub.status.busy": "2022-10-15T15:17:40.864214Z",
     "iopub.status.idle": "2022-10-15T15:17:40.898578Z",
     "shell.execute_reply": "2022-10-15T15:17:40.897518Z",
     "shell.execute_reply.started": "2022-10-15T15:17:40.864702Z"
    }
   },
   "outputs": [],
   "source": [
    "_concat_df = {}\n",
    "_rest_df = {}\n",
    "batteries = [5,6,7,18]\n",
    "for bat in batteries:\n",
    "    _concat_df[bat] = concat_df[concat_df['battery_nb'] == bat].copy().reset_index()\n",
    "    _rest_df[bat] = rest_df[rest_df['battery_nb'] == bat].copy().reset_index()\n",
    "del concat_df, rest_df"
   ]
  },
  {
   "cell_type": "markdown",
   "metadata": {},
   "source": [
    "## Global feature"
   ]
  },
  {
   "cell_type": "code",
   "execution_count": 5,
   "metadata": {
    "execution": {
     "iopub.execute_input": "2022-10-15T15:17:40.903284Z",
     "iopub.status.busy": "2022-10-15T15:17:40.901817Z",
     "iopub.status.idle": "2022-10-15T15:17:40.968430Z",
     "shell.execute_reply": "2022-10-15T15:17:40.967114Z",
     "shell.execute_reply.started": "2022-10-15T15:17:40.903187Z"
    }
   },
   "outputs": [
    {
     "name": "stderr",
     "output_type": "stream",
     "text": [
      "<ipython-input-5-2b08fb307b9e>:3: FutureWarning: The default value of numeric_only in DataFrameGroupBy.mean is deprecated. In a future version, numeric_only will default to False. Either specify numeric_only or select only columns which should be valid for the function.\n",
      "  global_df[bat] = _concat_df[bat].groupby(['charge_nb'],as_index=False).mean()[['charge_nb','interpolated_capacity']].sort_values(['charge_nb'])\n",
      "<ipython-input-5-2b08fb307b9e>:3: FutureWarning: The default value of numeric_only in DataFrameGroupBy.mean is deprecated. In a future version, numeric_only will default to False. Either specify numeric_only or select only columns which should be valid for the function.\n",
      "  global_df[bat] = _concat_df[bat].groupby(['charge_nb'],as_index=False).mean()[['charge_nb','interpolated_capacity']].sort_values(['charge_nb'])\n",
      "<ipython-input-5-2b08fb307b9e>:3: FutureWarning: The default value of numeric_only in DataFrameGroupBy.mean is deprecated. In a future version, numeric_only will default to False. Either specify numeric_only or select only columns which should be valid for the function.\n",
      "  global_df[bat] = _concat_df[bat].groupby(['charge_nb'],as_index=False).mean()[['charge_nb','interpolated_capacity']].sort_values(['charge_nb'])\n",
      "<ipython-input-5-2b08fb307b9e>:3: FutureWarning: The default value of numeric_only in DataFrameGroupBy.mean is deprecated. In a future version, numeric_only will default to False. Either specify numeric_only or select only columns which should be valid for the function.\n",
      "  global_df[bat] = _concat_df[bat].groupby(['charge_nb'],as_index=False).mean()[['charge_nb','interpolated_capacity']].sort_values(['charge_nb'])\n"
     ]
    }
   ],
   "source": [
    "global_df = {}\n",
    "for bat in batteries:\n",
    "    global_df[bat] = _concat_df[bat].groupby(['charge_nb'],as_index=False).mean()[['charge_nb','interpolated_capacity']].sort_values(['charge_nb'])\n",
    "    global_df[bat]['mean_previous_5'] = global_df[bat]['interpolated_capacity'].rolling(5).mean().shift(1).fillna(10)\n",
    "    global_df[bat]['isPeak'] = np.where(global_df[bat]['interpolated_capacity'] > global_df[bat]['mean_previous_5'],1,0)\n",
    "    global_df[bat]['x2'] = _rest_df[bat]['cc_capacity'].copy()\n",
    "    global_df[bat]['x3'] = _rest_df[bat]['cv_capacity'].copy()\n",
    "    temp_df = _concat_df[bat].groupby(['charge_nb']).last().reset_index()\n",
    "    global_df[bat]['x4'] = temp_df['current_measured'].copy()\n",
    "    global_df[bat]['x5'] = temp_df['voltage_measured'].copy()\n",
    "    del temp_df\n",
    "    global_df[bat].drop(['mean_previous_5'],axis=1,inplace=True)"
   ]
  },
  {
   "cell_type": "code",
   "execution_count": 6,
   "metadata": {
    "execution": {
     "iopub.execute_input": "2022-10-15T15:17:40.970618Z",
     "iopub.status.busy": "2022-10-15T15:17:40.970220Z",
     "iopub.status.idle": "2022-10-15T15:17:40.997003Z",
     "shell.execute_reply": "2022-10-15T15:17:40.995850Z",
     "shell.execute_reply.started": "2022-10-15T15:17:40.970578Z"
    }
   },
   "outputs": [
    {
     "data": {
      "text/html": [
       "<div>\n",
       "<style scoped>\n",
       "    .dataframe tbody tr th:only-of-type {\n",
       "        vertical-align: middle;\n",
       "    }\n",
       "\n",
       "    .dataframe tbody tr th {\n",
       "        vertical-align: top;\n",
       "    }\n",
       "\n",
       "    .dataframe thead th {\n",
       "        text-align: right;\n",
       "    }\n",
       "</style>\n",
       "<table border=\"1\" class=\"dataframe\">\n",
       "  <thead>\n",
       "    <tr style=\"text-align: right;\">\n",
       "      <th></th>\n",
       "      <th>charge_nb</th>\n",
       "      <th>interpolated_capacity</th>\n",
       "      <th>isPeak</th>\n",
       "      <th>x2</th>\n",
       "      <th>x3</th>\n",
       "      <th>x4</th>\n",
       "      <th>x5</th>\n",
       "    </tr>\n",
       "  </thead>\n",
       "  <tbody>\n",
       "    <tr>\n",
       "      <th>0</th>\n",
       "      <td>1.0</td>\n",
       "      <td>1.856487</td>\n",
       "      <td>0</td>\n",
       "      <td>0.995578</td>\n",
       "      <td>0.0</td>\n",
       "      <td>-0.002892</td>\n",
       "      <td>4.191078</td>\n",
       "    </tr>\n",
       "    <tr>\n",
       "      <th>1</th>\n",
       "      <td>2.0</td>\n",
       "      <td>1.846327</td>\n",
       "      <td>0</td>\n",
       "      <td>0.995986</td>\n",
       "      <td>0.0</td>\n",
       "      <td>-0.001833</td>\n",
       "      <td>4.189062</td>\n",
       "    </tr>\n",
       "    <tr>\n",
       "      <th>2</th>\n",
       "      <td>3.0</td>\n",
       "      <td>1.835349</td>\n",
       "      <td>0</td>\n",
       "      <td>0.995144</td>\n",
       "      <td>0.0</td>\n",
       "      <td>0.002277</td>\n",
       "      <td>4.187398</td>\n",
       "    </tr>\n",
       "    <tr>\n",
       "      <th>3</th>\n",
       "      <td>4.0</td>\n",
       "      <td>1.835263</td>\n",
       "      <td>0</td>\n",
       "      <td>0.995155</td>\n",
       "      <td>0.0</td>\n",
       "      <td>-0.000862</td>\n",
       "      <td>4.188055</td>\n",
       "    </tr>\n",
       "    <tr>\n",
       "      <th>4</th>\n",
       "      <td>5.0</td>\n",
       "      <td>1.834646</td>\n",
       "      <td>0</td>\n",
       "      <td>0.993751</td>\n",
       "      <td>0.0</td>\n",
       "      <td>0.000398</td>\n",
       "      <td>4.188438</td>\n",
       "    </tr>\n",
       "  </tbody>\n",
       "</table>\n",
       "</div>"
      ],
      "text/plain": [
       "   charge_nb  interpolated_capacity  isPeak        x2   x3        x4        x5\n",
       "0        1.0               1.856487       0  0.995578  0.0 -0.002892  4.191078\n",
       "1        2.0               1.846327       0  0.995986  0.0 -0.001833  4.189062\n",
       "2        3.0               1.835349       0  0.995144  0.0  0.002277  4.187398\n",
       "3        4.0               1.835263       0  0.995155  0.0 -0.000862  4.188055\n",
       "4        5.0               1.834646       0  0.993751  0.0  0.000398  4.188438"
      ]
     },
     "execution_count": 6,
     "metadata": {},
     "output_type": "execute_result"
    }
   ],
   "source": [
    "global_df[5].head()"
   ]
  },
  {
   "cell_type": "code",
   "execution_count": 7,
   "metadata": {
    "execution": {
     "iopub.execute_input": "2022-10-15T15:17:41.001007Z",
     "iopub.status.busy": "2022-10-15T15:17:40.999374Z",
     "iopub.status.idle": "2022-10-15T15:17:41.040797Z",
     "shell.execute_reply": "2022-10-15T15:17:41.039166Z",
     "shell.execute_reply.started": "2022-10-15T15:17:41.000947Z"
    }
   },
   "outputs": [],
   "source": [
    "# normalize data\n",
    "column_to_norm = ['voltage_measured','current_measured','temperature_measured']\n",
    "max_values = {}\n",
    "min_values = {}\n",
    "\n",
    "full_df = pd.concat([_concat_df[bat] for bat in _concat_df],ignore_index=True)\n",
    "for col in column_to_norm:\n",
    "  max_values[col] =  full_df[col].max()\n",
    "  min_values[col] =  full_df[col].min()\n",
    "  for bat in _concat_df:\n",
    "      _concat_df[bat][col]=(_concat_df[bat][col]-min_values[col])/(max_values[col]-min_values[col]) \n",
    "\n",
    "column_to_norm = ['x2','x3','x4','x5', 'interpolated_capacity']\n",
    "full_df = pd.concat([global_df[bat] for bat in global_df],ignore_index=True)\n",
    "for col in column_to_norm:\n",
    "  max_values[col] =  full_df[col].max()\n",
    "  min_values[col] =  full_df[col].min()\n",
    "  for bat in _concat_df:\n",
    "      global_df[bat][col]=(global_df[bat][col]-min_values[col])/(max_values[col]-min_values[col]) "
   ]
  },
  {
   "cell_type": "code",
   "execution_count": 8,
   "metadata": {
    "execution": {
     "iopub.execute_input": "2022-10-15T15:17:41.043343Z",
     "iopub.status.busy": "2022-10-15T15:17:41.042794Z",
     "iopub.status.idle": "2022-10-15T15:17:41.050887Z",
     "shell.execute_reply": "2022-10-15T15:17:41.049259Z",
     "shell.execute_reply.started": "2022-10-15T15:17:41.043287Z"
    }
   },
   "outputs": [],
   "source": [
    "window_size=10\n",
    "prediction_interval=1\n",
    "multichannel_features = ['voltage_measured','current_measured','temperature_measured']\n",
    "# global_seq_features = ['x_5', 'rest_period', 'interpolated_capacity']\n",
    "global_seq_features = ['x2','x3','x4','x5', 'isPeak', 'interpolated_capacity']\n",
    "extract_points_len = 11"
   ]
  },
  {
   "cell_type": "code",
   "execution_count": 9,
   "metadata": {
    "execution": {
     "iopub.execute_input": "2022-10-11T03:24:29.437980Z",
     "iopub.status.busy": "2022-10-11T03:24:29.437617Z",
     "iopub.status.idle": "2022-10-11T03:24:29.463986Z",
     "shell.execute_reply": "2022-10-11T03:24:29.462727Z",
     "shell.execute_reply.started": "2022-10-11T03:24:29.437955Z"
    }
   },
   "outputs": [],
   "source": [
    "import numpy as np\n",
    "import pickle\n",
    "import torch\n",
    "from torch.utils.data import Dataset, DataLoader\n",
    "from torch.utils.tensorboard import SummaryWriter"
   ]
  },
  {
   "cell_type": "code",
   "execution_count": 11,
   "metadata": {
    "execution": {
     "iopub.execute_input": "2022-10-11T03:24:32.857960Z",
     "iopub.status.busy": "2022-10-11T03:24:32.857606Z",
     "iopub.status.idle": "2022-10-11T03:24:32.865368Z",
     "shell.execute_reply": "2022-10-11T03:24:32.864433Z",
     "shell.execute_reply.started": "2022-10-11T03:24:32.857932Z"
    }
   },
   "outputs": [],
   "source": [
    "class Obj(object):\n",
    "    def __init__(self):\n",
    "        pass\n",
    "    \n",
    "args = Obj()\n",
    "    \n",
    "args.data_path = \"./data/data.pkl\"\n",
    "args.batch_size = 100\n",
    "args.shuffle = True\n",
    "args.pin_memory = True\n",
    "args.embed_dim = 50\n",
    "args.hidden_dim = 16\n",
    "args.dropout = 0.06\n",
    "args.learning_rate = 0.02\n",
    "args.device = 'cpu'\n",
    "args.num_epochs = 2000\n",
    "args.summary_batch_interval = 1\n",
    "\n",
    "\n",
    "sequence_feature_count = 3\n",
    "global_feature_count = 6\n",
    "num_points = 11\n",
    "num_cycles = 10\n",
    "prediction_interval = 1\n",
    "maximum = max_values['interpolated_capacity']\n",
    "minimum = min_values['interpolated_capacity']"
   ]
  },
  {
   "cell_type": "code",
   "execution_count": 15,
   "metadata": {
    "execution": {
     "iopub.execute_input": "2022-10-15T08:41:07.841909Z",
     "iopub.status.busy": "2022-10-15T08:41:07.841526Z",
     "iopub.status.idle": "2022-10-15T08:41:07.865414Z",
     "shell.execute_reply": "2022-10-15T08:41:07.864322Z",
     "shell.execute_reply.started": "2022-10-15T08:41:07.841878Z"
    }
   },
   "outputs": [],
   "source": [
    "def build_and_train(model, out_dir, data, EPOCH, seed,dropout, clipping_value=None, park=False):\n",
    "    setup_seed(seed)\n",
    "    \n",
    "    loss_list, y_ = [0], [] \n",
    "    rmse_list, mape_list = [], []\n",
    "    best_rmse = None\n",
    "#     model = CNN_Transformer_ARNS(feature_size, num_extracted_point, window_size, global_feature_size, frt_feature_size, output_node,\n",
    "#                  dccnn_kernel_size, dccnn_stride, dccnn_padding, dccnn_dilation, \n",
    "#                  dropout, \n",
    "#                  pcnn_kernel_size, pcnn_stride, pcnn_padding, pcnn_dilation, \n",
    "#                  n_layers)\n",
    "    model = model.to(device)\n",
    "    optimizer = torch.optim.Adam(model.parameters(), lr=LR, weight_decay=weight_decay)\n",
    "    criterion = nn.MSELoss()\n",
    "    \n",
    "#     if park:\n",
    "#         X_train, Y_train, X_val, Y_val, X_test,Y_test = park_cross_validation(batteries, concat_df)\n",
    "#     else:\n",
    "#         X_train, Y_train, X_val, Y_val, X_test,Y_test = cross_validation(batteries, concat_df)\n",
    "\n",
    "    X_train, Y_train, X_val, Y_val, X_test,Y_test = data\n",
    "    \n",
    "    print('sample size: {}'.format(len(X_train[0])))\n",
    "    print('target size: {}'.format(len(Y_train)))\n",
    "    R_avg = []\n",
    "    for epoch in range(EPOCH) :\n",
    "        model.train()\n",
    "        X_local, X_global = X_train\n",
    "        X_local = np.array(X_local).astype(np.float32)\n",
    "        X_global = np.array(X_global).astype(np.float32)\n",
    "        Y = np.array(Y_train).astype(np.float32)\n",
    "        X_local, X_global = torch.from_numpy(X_local).to(device), torch.from_numpy(X_global).to(device) \n",
    "        Y = torch.from_numpy(Y).to(device)\n",
    "        output, attention_weights = model(X_local, X_global)\n",
    "#         rl_loss = 0\n",
    "        downstream_loss = criterion(output, Y)\n",
    "        loss = downstream_loss\n",
    "        optimizer.zero_grad()\n",
    "        loss.backward()\n",
    "        if clipping_value:\n",
    "            nn.utils.clip_grad_norm(model.parameters(), clipping_value)\n",
    "        optimizer.step()\n",
    "\n",
    "        if epoch%100==0 or epoch==(EPOCH-1):\n",
    "            point_list = []\n",
    "            x_local, x_global = X_val\n",
    "            x_local = np.array(x_local).astype(np.float32)\n",
    "            x_global = np.array(x_global).astype(np.float32)\n",
    "            x_local, x_global,  = torch.from_numpy(x_local).to(device), torch.from_numpy(x_global).to(device)\n",
    "            model.eval()\n",
    "            with torch.no_grad():\n",
    "                pred, _ = model(x_local, x_global)\n",
    "#                 print(pred)\n",
    "            point_list = list(pred[:,0].cpu().detach().numpy())\n",
    "            y_.append(point_list)\n",
    "            loss_list.append(loss)\n",
    "            mape, rmse = evaluation(y_test=denormalize(Y_val,maximum,minimum).flatten(), y_predict=denormalize(np.array(y_[-1]),maximum,minimum))\n",
    "            mape_list.append(mape)\n",
    "            rmse_list.append(rmse)\n",
    "            if best_rmse == None:\n",
    "                best_rmse = {}\n",
    "                best_rmse['name'] = 'checkpoint-' + str(epoch) + '.pt'\n",
    "                best_rmse['value'] = rmse\n",
    "                torch.save(model, os.path.join(out_dir,best_rmse['name']))\n",
    "            else:\n",
    "                if rmse < best_rmse['value']:\n",
    "                    os.remove(os.path.join(out_dir,best_rmse['name']))\n",
    "                    best_rmse['name'] = 'checkpoint-' + str(epoch) + '.pt'\n",
    "                    best_rmse['value'] = rmse\n",
    "                    torch.save(model, os.path.join(out_dir,best_rmse['name']))\n",
    "            re = relative_error(y_test=Y_val.flatten(), y_predict=y_[-1], threshold=0.7)\n",
    "            print('epoch:{:<2d} | loss:{:<6.7f} | MAPE:{:<6.4f} | RMSE:{:<6.4f} | RE:{:<6.4f}'.format(epoch, loss, mape, rmse, re))\n",
    "            \n",
    "        if (len(loss_list) > 1) and (abs(loss_list[-2] - loss_list[-1]) < 1e-7):\n",
    "          break\n",
    "    mape, rmse = evaluation(y_test=denormalize(Y_val,maximum,minimum).flatten(), y_predict=denormalize(np.array(y_[-1]),maximum,minimum))\n",
    "    re = relative_error(y_test=Y_val.flatten(), y_predict=y_[-1], threshold=0.7)\n",
    "    return model, y_[-1], mape_list, rmse_list, re"
   ]
  },
  {
   "cell_type": "markdown",
   "metadata": {},
   "source": [
    "## Cross 1"
   ]
  },
  {
   "cell_type": "code",
   "execution_count": 16,
   "metadata": {
    "execution": {
     "iopub.execute_input": "2022-10-11T04:11:54.106970Z",
     "iopub.status.busy": "2022-10-11T04:11:54.106559Z",
     "iopub.status.idle": "2022-10-11T04:11:54.112206Z",
     "shell.execute_reply": "2022-10-11T04:11:54.111263Z",
     "shell.execute_reply.started": "2022-10-11T04:11:54.106936Z"
    }
   },
   "outputs": [],
   "source": [
    "ver = 2\n",
    "device = \"cpu\"\n",
    "LR = 0.02\n",
    "weight_decay = 0"
   ]
  },
  {
   "cell_type": "code",
   "execution_count": 18,
   "metadata": {
    "execution": {
     "iopub.execute_input": "2022-10-11T04:11:57.585356Z",
     "iopub.status.busy": "2022-10-11T04:11:57.584977Z",
     "iopub.status.idle": "2022-10-11T04:11:57.642733Z",
     "shell.execute_reply": "2022-10-11T04:11:57.641646Z",
     "shell.execute_reply.started": "2022-10-11T04:11:57.585325Z"
    }
   },
   "outputs": [
    {
     "name": "stderr",
     "output_type": "stream",
     "text": [
      "/home/dh2409/Documents/LIB/fixed-point-model/utils.py:17: FutureWarning: The default value of numeric_only in DataFrameGroupBy.mean is deprecated. In a future version, numeric_only will default to False. Either specify numeric_only or select only columns which should be valid for the function.\n",
      "  capacity = df_copy.groupby(['charge_nb']).mean()['interpolated_capacity'].to_numpy().reshape(-1, 1)\n",
      "/home/dh2409/Documents/LIB/fixed-point-model/utils.py:17: FutureWarning: The default value of numeric_only in DataFrameGroupBy.mean is deprecated. In a future version, numeric_only will default to False. Either specify numeric_only or select only columns which should be valid for the function.\n",
      "  capacity = df_copy.groupby(['charge_nb']).mean()['interpolated_capacity'].to_numpy().reshape(-1, 1)\n",
      "/home/dh2409/Documents/LIB/fixed-point-model/utils.py:17: FutureWarning: The default value of numeric_only in DataFrameGroupBy.mean is deprecated. In a future version, numeric_only will default to False. Either specify numeric_only or select only columns which should be valid for the function.\n",
      "  capacity = df_copy.groupby(['charge_nb']).mean()['interpolated_capacity'].to_numpy().reshape(-1, 1)\n",
      "/home/dh2409/Documents/LIB/fixed-point-model/utils.py:17: FutureWarning: The default value of numeric_only in DataFrameGroupBy.mean is deprecated. In a future version, numeric_only will default to False. Either specify numeric_only or select only columns which should be valid for the function.\n",
      "  capacity = df_copy.groupby(['charge_nb']).mean()['interpolated_capacity'].to_numpy().reshape(-1, 1)\n",
      "/home/dh2409/Documents/LIB/fixed-point-model/utils.py:17: FutureWarning: The default value of numeric_only in DataFrameGroupBy.mean is deprecated. In a future version, numeric_only will default to False. Either specify numeric_only or select only columns which should be valid for the function.\n",
      "  capacity = df_copy.groupby(['charge_nb']).mean()['interpolated_capacity'].to_numpy().reshape(-1, 1)\n",
      "/home/dh2409/Documents/LIB/fixed-point-model/utils.py:17: FutureWarning: The default value of numeric_only in DataFrameGroupBy.mean is deprecated. In a future version, numeric_only will default to False. Either specify numeric_only or select only columns which should be valid for the function.\n",
      "  capacity = df_copy.groupby(['charge_nb']).mean()['interpolated_capacity'].to_numpy().reshape(-1, 1)\n",
      "/home/dh2409/Documents/LIB/fixed-point-model/utils.py:17: FutureWarning: The default value of numeric_only in DataFrameGroupBy.mean is deprecated. In a future version, numeric_only will default to False. Either specify numeric_only or select only columns which should be valid for the function.\n",
      "  capacity = df_copy.groupby(['charge_nb']).mean()['interpolated_capacity'].to_numpy().reshape(-1, 1)\n",
      "/home/dh2409/Documents/LIB/fixed-point-model/utils.py:17: FutureWarning: The default value of numeric_only in DataFrameGroupBy.mean is deprecated. In a future version, numeric_only will default to False. Either specify numeric_only or select only columns which should be valid for the function.\n",
      "  capacity = df_copy.groupby(['charge_nb']).mean()['interpolated_capacity'].to_numpy().reshape(-1, 1)\n",
      "/home/dh2409/Documents/LIB/fixed-point-model/utils.py:17: FutureWarning: The default value of numeric_only in DataFrameGroupBy.mean is deprecated. In a future version, numeric_only will default to False. Either specify numeric_only or select only columns which should be valid for the function.\n",
      "  capacity = df_copy.groupby(['charge_nb']).mean()['interpolated_capacity'].to_numpy().reshape(-1, 1)\n",
      "/home/dh2409/Documents/LIB/fixed-point-model/utils.py:17: FutureWarning: The default value of numeric_only in DataFrameGroupBy.mean is deprecated. In a future version, numeric_only will default to False. Either specify numeric_only or select only columns which should be valid for the function.\n",
      "  capacity = df_copy.groupby(['charge_nb']).mean()['interpolated_capacity'].to_numpy().reshape(-1, 1)\n",
      "/home/dh2409/Documents/LIB/fixed-point-model/utils.py:17: FutureWarning: The default value of numeric_only in DataFrameGroupBy.mean is deprecated. In a future version, numeric_only will default to False. Either specify numeric_only or select only columns which should be valid for the function.\n",
      "  capacity = df_copy.groupby(['charge_nb']).mean()['interpolated_capacity'].to_numpy().reshape(-1, 1)\n",
      "/home/dh2409/Documents/LIB/fixed-point-model/utils.py:17: FutureWarning: The default value of numeric_only in DataFrameGroupBy.mean is deprecated. In a future version, numeric_only will default to False. Either specify numeric_only or select only columns which should be valid for the function.\n",
      "  capacity = df_copy.groupby(['charge_nb']).mean()['interpolated_capacity'].to_numpy().reshape(-1, 1)\n",
      "/home/dh2409/Documents/LIB/fixed-point-model/utils.py:17: FutureWarning: The default value of numeric_only in DataFrameGroupBy.mean is deprecated. In a future version, numeric_only will default to False. Either specify numeric_only or select only columns which should be valid for the function.\n",
      "  capacity = df_copy.groupby(['charge_nb']).mean()['interpolated_capacity'].to_numpy().reshape(-1, 1)\n"
     ]
    }
   ],
   "source": [
    "cross = [0.2, 0.4, 0.7, 1, 0.2, 0.4, 0.7, 1, 0.2, 0.4, 0.7, 1, 0.2, 0.4, 0.7, 1,]\n",
    "\n",
    "size = {}\n",
    "size[5] = len(global_df[5])\n",
    "size[6] = len(global_df[6])\n",
    "size[7] = len(global_df[7])\n",
    "size[18] = len(global_df[18])\n",
    "\n",
    "def split_set(index):\n",
    "    X_test, Y_test = [[],[]], []\n",
    "    for bat in index: \n",
    "        for (fr,to) in index[bat]:\n",
    "            X, Y = extract_batter_features(_concat_df[bat].loc[int(fr*size[bat])*num_points:int(to*size[bat])*num_points+num_points-1],global_df[bat].loc[int(fr*size[bat]):int(to*size[bat])],bat,num_cycles,prediction_interval,multichannel_features,extract_points_len,global_seq_features)\n",
    "            X_test[0].append(X[0])\n",
    "            X_test[1].append(X[1])\n",
    "            Y_test.append(Y)\n",
    "    X_test[0] = np.concatenate(X_test[0],axis=0)\n",
    "    X_test[1] = np.concatenate(X_test[1],axis=0)\n",
    "    Y_test = np.concatenate(Y_test,axis=0)\n",
    "    return X_test, Y_test\n",
    "\n",
    "index = {}\n",
    "index[5] = [(0,0.2)]\n",
    "index[6] = [(0.2,0.4)]\n",
    "index[7] = [(0.4,0.7)]\n",
    "index[18] = [(0.7,1.)]\n",
    "X_test, Y_test = split_set(index)\n",
    "\n",
    "index = {}\n",
    "index[5] = [(0.2,0.7)]\n",
    "index[6] = [(0,0.2),(0.4,0.7)]\n",
    "index[7] = [(0,0.4)]\n",
    "index[18] = [(0,0.4)]\n",
    "X_train, Y_train = split_set(index)\n",
    "\n",
    "index = {}\n",
    "index[5] = [(0.7,1)]\n",
    "index[6] = [(0.7,1)]\n",
    "index[7] = [(0.7,1)]\n",
    "index[18] = [(0.4,0.7)]\n",
    "X_val, Y_val = split_set(index)"
   ]
  },
  {
   "cell_type": "code",
   "execution_count": 20,
   "metadata": {
    "execution": {
     "iopub.execute_input": "2022-10-11T04:12:04.417964Z",
     "iopub.status.busy": "2022-10-11T04:12:04.417586Z",
     "iopub.status.idle": "2022-10-11T04:13:54.330033Z",
     "shell.execute_reply": "2022-10-11T04:13:54.328490Z",
     "shell.execute_reply.started": "2022-10-11T04:12:04.417932Z"
    }
   },
   "outputs": [
    {
     "name": "stdout",
     "output_type": "stream",
     "text": [
      "Trainable params: 19999\n",
      "sample size: 239\n",
      "target size: 239\n",
      "epoch:0  | loss:1.9384538 | MAPE:4.1867 | RMSE:0.1157 | RE:1.0000\n",
      "epoch:100 | loss:0.0071739 | MAPE:1.6914 | RMSE:0.0433 | RE:1.0000\n",
      "epoch:200 | loss:0.0045110 | MAPE:1.6901 | RMSE:0.0431 | RE:1.0000\n",
      "epoch:300 | loss:0.0030270 | MAPE:1.2902 | RMSE:0.0338 | RE:1.0000\n",
      "epoch:400 | loss:0.0024175 | MAPE:0.9534 | RMSE:0.0264 | RE:1.0000\n",
      "epoch:500 | loss:0.0014291 | MAPE:0.7917 | RMSE:0.0228 | RE:1.0000\n",
      "epoch:600 | loss:0.0011632 | MAPE:0.6334 | RMSE:0.0193 | RE:1.0000\n",
      "epoch:700 | loss:0.0008199 | MAPE:0.5817 | RMSE:0.0179 | RE:1.0000\n",
      "epoch:800 | loss:0.0006342 | MAPE:0.5255 | RMSE:0.0169 | RE:1.0000\n",
      "epoch:900 | loss:0.0005123 | MAPE:0.6225 | RMSE:0.0191 | RE:1.0000\n",
      "epoch:1000 | loss:0.0005450 | MAPE:0.6987 | RMSE:0.0210 | RE:1.0000\n",
      "epoch:1100 | loss:0.0004297 | MAPE:0.9535 | RMSE:0.0274 | RE:1.0000\n",
      "epoch:1200 | loss:0.0003566 | MAPE:1.1092 | RMSE:0.0315 | RE:1.0000\n",
      "epoch:1300 | loss:0.0003179 | MAPE:1.3289 | RMSE:0.0389 | RE:1.0000\n",
      "epoch:1400 | loss:0.0002765 | MAPE:1.3839 | RMSE:0.0428 | RE:1.0000\n",
      "epoch:1500 | loss:0.0004140 | MAPE:1.5317 | RMSE:0.0472 | RE:1.0000\n",
      "epoch:1600 | loss:0.0002164 | MAPE:1.2830 | RMSE:0.0429 | RE:1.0000\n",
      "epoch:1700 | loss:0.0002116 | MAPE:1.3511 | RMSE:0.0452 | RE:1.0000\n",
      "epoch:1800 | loss:0.0002301 | MAPE:1.2135 | RMSE:0.0415 | RE:1.0000\n",
      "epoch:1900 | loss:0.0001726 | MAPE:1.2419 | RMSE:0.0427 | RE:1.0000\n",
      "epoch:1999 | loss:0.0001947 | MAPE:1.2601 | RMSE:0.0433 | RE:1.0000\n"
     ]
    }
   ],
   "source": [
    "path = 'cross1_v'+str(ver)\n",
    "if not os.path.isdir(path):\n",
    "    os.mkdir(path)\n",
    "model = Regressor('bert-trainposcode', 'LSTM_bi', True, 1, args.embed_dim, args.hidden_dim, args.dropout)\n",
    "print(f\"Trainable params: {sum(p.numel() for p in model.parameters() if p.requires_grad)}\")\n",
    "_,_,_,_,_ = build_and_train(model,path,(X_train,Y_train,X_val,Y_val,X_test,Y_test),args.num_epochs,0,args.dropout)"
   ]
  },
  {
   "cell_type": "code",
   "execution_count": 22,
   "metadata": {
    "execution": {
     "iopub.execute_input": "2022-10-11T04:13:54.332707Z",
     "iopub.status.busy": "2022-10-11T04:13:54.331939Z",
     "iopub.status.idle": "2022-10-11T04:13:54.357154Z",
     "shell.execute_reply": "2022-10-11T04:13:54.355558Z",
     "shell.execute_reply.started": "2022-10-11T04:13:54.332678Z"
    }
   },
   "outputs": [
    {
     "name": "stdout",
     "output_type": "stream",
     "text": [
      "MAPE 0.7158543890577939 \n",
      "MAE 0.018229498340099265 \n",
      "RSME 0.024549771036934672\n",
      "-----------------------------------------\n"
     ]
    }
   ],
   "source": [
    "path_model = os.listdir(path)[0]\n",
    "model = torch.load(os.path.join(path,path_model))\n",
    "mape1,mae1,rmse1 = test(model, X_test, Y_test, starting_point=0,maximum=maximum,minimum=minimum)"
   ]
  },
  {
   "cell_type": "markdown",
   "metadata": {},
   "source": [
    "## Cross 2"
   ]
  },
  {
   "cell_type": "code",
   "execution_count": 23,
   "metadata": {
    "execution": {
     "iopub.execute_input": "2022-10-11T04:13:54.368071Z",
     "iopub.status.busy": "2022-10-11T04:13:54.367680Z",
     "iopub.status.idle": "2022-10-11T04:13:54.375192Z",
     "shell.execute_reply": "2022-10-11T04:13:54.373841Z",
     "shell.execute_reply.started": "2022-10-11T04:13:54.368040Z"
    }
   },
   "outputs": [],
   "source": [
    "ver = 2\n",
    "device = \"cpu\"\n",
    "LR = 0.02\n",
    "weight_decay = 0"
   ]
  },
  {
   "cell_type": "code",
   "execution_count": 24,
   "metadata": {
    "execution": {
     "iopub.execute_input": "2022-10-11T04:13:54.376857Z",
     "iopub.status.busy": "2022-10-11T04:13:54.376474Z",
     "iopub.status.idle": "2022-10-11T04:13:54.431807Z",
     "shell.execute_reply": "2022-10-11T04:13:54.430929Z",
     "shell.execute_reply.started": "2022-10-11T04:13:54.376828Z"
    }
   },
   "outputs": [
    {
     "name": "stderr",
     "output_type": "stream",
     "text": [
      "/home/dh2409/Documents/LIB/fixed-point-model/utils.py:17: FutureWarning: The default value of numeric_only in DataFrameGroupBy.mean is deprecated. In a future version, numeric_only will default to False. Either specify numeric_only or select only columns which should be valid for the function.\n",
      "  capacity = df_copy.groupby(['charge_nb']).mean()['interpolated_capacity'].to_numpy().reshape(-1, 1)\n",
      "/home/dh2409/Documents/LIB/fixed-point-model/utils.py:17: FutureWarning: The default value of numeric_only in DataFrameGroupBy.mean is deprecated. In a future version, numeric_only will default to False. Either specify numeric_only or select only columns which should be valid for the function.\n",
      "  capacity = df_copy.groupby(['charge_nb']).mean()['interpolated_capacity'].to_numpy().reshape(-1, 1)\n",
      "/home/dh2409/Documents/LIB/fixed-point-model/utils.py:17: FutureWarning: The default value of numeric_only in DataFrameGroupBy.mean is deprecated. In a future version, numeric_only will default to False. Either specify numeric_only or select only columns which should be valid for the function.\n",
      "  capacity = df_copy.groupby(['charge_nb']).mean()['interpolated_capacity'].to_numpy().reshape(-1, 1)\n",
      "/home/dh2409/Documents/LIB/fixed-point-model/utils.py:17: FutureWarning: The default value of numeric_only in DataFrameGroupBy.mean is deprecated. In a future version, numeric_only will default to False. Either specify numeric_only or select only columns which should be valid for the function.\n",
      "  capacity = df_copy.groupby(['charge_nb']).mean()['interpolated_capacity'].to_numpy().reshape(-1, 1)\n",
      "/home/dh2409/Documents/LIB/fixed-point-model/utils.py:17: FutureWarning: The default value of numeric_only in DataFrameGroupBy.mean is deprecated. In a future version, numeric_only will default to False. Either specify numeric_only or select only columns which should be valid for the function.\n",
      "  capacity = df_copy.groupby(['charge_nb']).mean()['interpolated_capacity'].to_numpy().reshape(-1, 1)\n",
      "/home/dh2409/Documents/LIB/fixed-point-model/utils.py:17: FutureWarning: The default value of numeric_only in DataFrameGroupBy.mean is deprecated. In a future version, numeric_only will default to False. Either specify numeric_only or select only columns which should be valid for the function.\n",
      "  capacity = df_copy.groupby(['charge_nb']).mean()['interpolated_capacity'].to_numpy().reshape(-1, 1)\n",
      "/home/dh2409/Documents/LIB/fixed-point-model/utils.py:17: FutureWarning: The default value of numeric_only in DataFrameGroupBy.mean is deprecated. In a future version, numeric_only will default to False. Either specify numeric_only or select only columns which should be valid for the function.\n",
      "  capacity = df_copy.groupby(['charge_nb']).mean()['interpolated_capacity'].to_numpy().reshape(-1, 1)\n",
      "/home/dh2409/Documents/LIB/fixed-point-model/utils.py:17: FutureWarning: The default value of numeric_only in DataFrameGroupBy.mean is deprecated. In a future version, numeric_only will default to False. Either specify numeric_only or select only columns which should be valid for the function.\n",
      "  capacity = df_copy.groupby(['charge_nb']).mean()['interpolated_capacity'].to_numpy().reshape(-1, 1)\n",
      "/home/dh2409/Documents/LIB/fixed-point-model/utils.py:17: FutureWarning: The default value of numeric_only in DataFrameGroupBy.mean is deprecated. In a future version, numeric_only will default to False. Either specify numeric_only or select only columns which should be valid for the function.\n",
      "  capacity = df_copy.groupby(['charge_nb']).mean()['interpolated_capacity'].to_numpy().reshape(-1, 1)\n",
      "/home/dh2409/Documents/LIB/fixed-point-model/utils.py:17: FutureWarning: The default value of numeric_only in DataFrameGroupBy.mean is deprecated. In a future version, numeric_only will default to False. Either specify numeric_only or select only columns which should be valid for the function.\n",
      "  capacity = df_copy.groupby(['charge_nb']).mean()['interpolated_capacity'].to_numpy().reshape(-1, 1)\n",
      "/home/dh2409/Documents/LIB/fixed-point-model/utils.py:17: FutureWarning: The default value of numeric_only in DataFrameGroupBy.mean is deprecated. In a future version, numeric_only will default to False. Either specify numeric_only or select only columns which should be valid for the function.\n",
      "  capacity = df_copy.groupby(['charge_nb']).mean()['interpolated_capacity'].to_numpy().reshape(-1, 1)\n",
      "/home/dh2409/Documents/LIB/fixed-point-model/utils.py:17: FutureWarning: The default value of numeric_only in DataFrameGroupBy.mean is deprecated. In a future version, numeric_only will default to False. Either specify numeric_only or select only columns which should be valid for the function.\n",
      "  capacity = df_copy.groupby(['charge_nb']).mean()['interpolated_capacity'].to_numpy().reshape(-1, 1)\n",
      "/home/dh2409/Documents/LIB/fixed-point-model/utils.py:17: FutureWarning: The default value of numeric_only in DataFrameGroupBy.mean is deprecated. In a future version, numeric_only will default to False. Either specify numeric_only or select only columns which should be valid for the function.\n",
      "  capacity = df_copy.groupby(['charge_nb']).mean()['interpolated_capacity'].to_numpy().reshape(-1, 1)\n",
      "/home/dh2409/Documents/LIB/fixed-point-model/utils.py:17: FutureWarning: The default value of numeric_only in DataFrameGroupBy.mean is deprecated. In a future version, numeric_only will default to False. Either specify numeric_only or select only columns which should be valid for the function.\n",
      "  capacity = df_copy.groupby(['charge_nb']).mean()['interpolated_capacity'].to_numpy().reshape(-1, 1)\n",
      "/home/dh2409/Documents/LIB/fixed-point-model/utils.py:17: FutureWarning: The default value of numeric_only in DataFrameGroupBy.mean is deprecated. In a future version, numeric_only will default to False. Either specify numeric_only or select only columns which should be valid for the function.\n",
      "  capacity = df_copy.groupby(['charge_nb']).mean()['interpolated_capacity'].to_numpy().reshape(-1, 1)\n",
      "/home/dh2409/Documents/LIB/fixed-point-model/utils.py:17: FutureWarning: The default value of numeric_only in DataFrameGroupBy.mean is deprecated. In a future version, numeric_only will default to False. Either specify numeric_only or select only columns which should be valid for the function.\n",
      "  capacity = df_copy.groupby(['charge_nb']).mean()['interpolated_capacity'].to_numpy().reshape(-1, 1)\n"
     ]
    }
   ],
   "source": [
    "cross = [0.2, 0.4, 0.7, 1, 0.2, 0.4, 0.7, 1, 0.2, 0.4, 0.7, 1, 0.2, 0.4, 0.7, 1,]\n",
    "\n",
    "size = {}\n",
    "size[5] = len(global_df[5])\n",
    "size[6] = len(global_df[6])\n",
    "size[7] = len(global_df[7])\n",
    "size[18] = len(global_df[18])\n",
    "\n",
    "index = {}\n",
    "index[5] = [(0,0.2)]\n",
    "index[6] = [(0.2,0.4)]\n",
    "index[7] = [(0.4,0.7)]\n",
    "index[18] = [(0.7,1.)]\n",
    "X_test, Y_test = split_set(index)\n",
    "\n",
    "index = {}\n",
    "index[5] = [(0.2,0.4),(0.7,1)]\n",
    "index[6] = [(0,0.2),(0.7,1)]\n",
    "index[7] = [(0,0.2),(0.7,1)]\n",
    "index[18] = [(0,0.2),(0.4,0.7)]\n",
    "X_train, Y_train = split_set(index)\n",
    "\n",
    "index = {}\n",
    "index[5] = [(0.4,0.7)]\n",
    "index[6] = [(0.4,0.7)]\n",
    "index[7] = [(0.2,0.4)]\n",
    "index[18] = [(0.2,0.4)]\n",
    "X_val, Y_val = split_set(index)"
   ]
  },
  {
   "cell_type": "code",
   "execution_count": 25,
   "metadata": {
    "execution": {
     "iopub.execute_input": "2022-10-11T04:13:54.433152Z",
     "iopub.status.busy": "2022-10-11T04:13:54.432890Z",
     "iopub.status.idle": "2022-10-11T04:15:38.333294Z",
     "shell.execute_reply": "2022-10-11T04:15:38.331529Z",
     "shell.execute_reply.started": "2022-10-11T04:13:54.433128Z"
    }
   },
   "outputs": [
    {
     "name": "stdout",
     "output_type": "stream",
     "text": [
      "Trainable params: 19999\n",
      "sample size: 236\n",
      "target size: 236\n",
      "epoch:0  | loss:1.2190431 | MAPE:6.6412 | RMSE:0.1838 | RE:1.0000\n",
      "epoch:100 | loss:0.0041358 | MAPE:0.7268 | RMSE:0.0274 | RE:1.0000\n",
      "epoch:200 | loss:0.0020799 | MAPE:0.7893 | RMSE:0.0292 | RE:1.0000\n",
      "epoch:300 | loss:0.0014406 | MAPE:0.7812 | RMSE:0.0295 | RE:1.0000\n",
      "epoch:400 | loss:0.0010139 | MAPE:0.7185 | RMSE:0.0301 | RE:1.0000\n",
      "epoch:500 | loss:0.0007971 | MAPE:0.6878 | RMSE:0.0281 | RE:1.0000\n",
      "epoch:600 | loss:0.0006545 | MAPE:0.6603 | RMSE:0.0272 | RE:1.0000\n",
      "epoch:700 | loss:0.0005852 | MAPE:0.6899 | RMSE:0.0284 | RE:1.0000\n",
      "epoch:800 | loss:0.0005334 | MAPE:0.6466 | RMSE:0.0259 | RE:1.0000\n",
      "epoch:900 | loss:0.0005227 | MAPE:0.6036 | RMSE:0.0254 | RE:1.0000\n",
      "epoch:1000 | loss:0.0004565 | MAPE:0.6171 | RMSE:0.0244 | RE:1.0000\n",
      "epoch:1100 | loss:0.0004298 | MAPE:0.5721 | RMSE:0.0254 | RE:1.0000\n",
      "epoch:1200 | loss:0.0003987 | MAPE:0.6089 | RMSE:0.0247 | RE:1.0000\n",
      "epoch:1300 | loss:0.0003595 | MAPE:0.5573 | RMSE:0.0252 | RE:1.0000\n",
      "epoch:1400 | loss:0.0003701 | MAPE:0.5704 | RMSE:0.0249 | RE:1.0000\n",
      "epoch:1500 | loss:0.0003281 | MAPE:0.5549 | RMSE:0.0252 | RE:1.0000\n",
      "epoch:1600 | loss:0.0003970 | MAPE:0.6474 | RMSE:0.0250 | RE:1.0000\n",
      "epoch:1700 | loss:0.0002672 | MAPE:0.5496 | RMSE:0.0259 | RE:1.0000\n",
      "epoch:1800 | loss:0.0003020 | MAPE:0.6505 | RMSE:0.0282 | RE:1.0000\n",
      "epoch:1900 | loss:0.0003046 | MAPE:0.5454 | RMSE:0.0247 | RE:1.0000\n",
      "epoch:1999 | loss:0.0002525 | MAPE:0.6147 | RMSE:0.0243 | RE:1.0000\n"
     ]
    }
   ],
   "source": [
    "path = 'cross2_v'+str(ver)\n",
    "if not os.path.isdir(path):\n",
    "    os.mkdir(path)\n",
    "model = Regressor('bert-trainposcode', 'LSTM_bi', True, 1, args.embed_dim, args.hidden_dim, args.dropout)\n",
    "print(f\"Trainable params: {sum(p.numel() for p in model.parameters() if p.requires_grad)}\")\n",
    "_,_,_,_,_ = build_and_train(model,path,(X_train,Y_train,X_val,Y_val,X_test,Y_test),args.num_epochs,0,args.dropout)"
   ]
  },
  {
   "cell_type": "code",
   "execution_count": 26,
   "metadata": {
    "execution": {
     "iopub.execute_input": "2022-10-11T04:15:38.334772Z",
     "iopub.status.busy": "2022-10-11T04:15:38.334521Z",
     "iopub.status.idle": "2022-10-11T04:15:38.360260Z",
     "shell.execute_reply": "2022-10-11T04:15:38.358993Z",
     "shell.execute_reply.started": "2022-10-11T04:15:38.334748Z"
    }
   },
   "outputs": [
    {
     "name": "stdout",
     "output_type": "stream",
     "text": [
      "MAPE 0.7262825874913497 \n",
      "MAE 0.01900688562126774 \n",
      "RSME 0.026668593330766627\n",
      "-----------------------------------------\n"
     ]
    }
   ],
   "source": [
    "path_model = os.listdir(path)[0]\n",
    "model = torch.load(os.path.join(path,path_model))\n",
    "mape2,mae2,rmse2 = test(model, X_test, Y_test, starting_point=0,maximum=maximum,minimum=minimum)"
   ]
  },
  {
   "cell_type": "markdown",
   "metadata": {},
   "source": [
    "# Cross 3"
   ]
  },
  {
   "cell_type": "code",
   "execution_count": 27,
   "metadata": {
    "execution": {
     "iopub.execute_input": "2022-10-11T04:15:38.362615Z",
     "iopub.status.busy": "2022-10-11T04:15:38.361959Z",
     "iopub.status.idle": "2022-10-11T04:15:38.367579Z",
     "shell.execute_reply": "2022-10-11T04:15:38.366452Z",
     "shell.execute_reply.started": "2022-10-11T04:15:38.362578Z"
    }
   },
   "outputs": [],
   "source": [
    "ver = 2\n",
    "device = \"cpu\"\n",
    "LR = 0.02\n",
    "weight_decay = 0"
   ]
  },
  {
   "cell_type": "code",
   "execution_count": 28,
   "metadata": {
    "execution": {
     "iopub.execute_input": "2022-10-11T04:15:38.369272Z",
     "iopub.status.busy": "2022-10-11T04:15:38.368915Z",
     "iopub.status.idle": "2022-10-11T04:15:38.416447Z",
     "shell.execute_reply": "2022-10-11T04:15:38.415430Z",
     "shell.execute_reply.started": "2022-10-11T04:15:38.369247Z"
    }
   },
   "outputs": [
    {
     "name": "stderr",
     "output_type": "stream",
     "text": [
      "/home/dh2409/Documents/LIB/fixed-point-model/utils.py:17: FutureWarning: The default value of numeric_only in DataFrameGroupBy.mean is deprecated. In a future version, numeric_only will default to False. Either specify numeric_only or select only columns which should be valid for the function.\n",
      "  capacity = df_copy.groupby(['charge_nb']).mean()['interpolated_capacity'].to_numpy().reshape(-1, 1)\n",
      "/home/dh2409/Documents/LIB/fixed-point-model/utils.py:17: FutureWarning: The default value of numeric_only in DataFrameGroupBy.mean is deprecated. In a future version, numeric_only will default to False. Either specify numeric_only or select only columns which should be valid for the function.\n",
      "  capacity = df_copy.groupby(['charge_nb']).mean()['interpolated_capacity'].to_numpy().reshape(-1, 1)\n",
      "/home/dh2409/Documents/LIB/fixed-point-model/utils.py:17: FutureWarning: The default value of numeric_only in DataFrameGroupBy.mean is deprecated. In a future version, numeric_only will default to False. Either specify numeric_only or select only columns which should be valid for the function.\n",
      "  capacity = df_copy.groupby(['charge_nb']).mean()['interpolated_capacity'].to_numpy().reshape(-1, 1)\n",
      "/home/dh2409/Documents/LIB/fixed-point-model/utils.py:17: FutureWarning: The default value of numeric_only in DataFrameGroupBy.mean is deprecated. In a future version, numeric_only will default to False. Either specify numeric_only or select only columns which should be valid for the function.\n",
      "  capacity = df_copy.groupby(['charge_nb']).mean()['interpolated_capacity'].to_numpy().reshape(-1, 1)\n",
      "/home/dh2409/Documents/LIB/fixed-point-model/utils.py:17: FutureWarning: The default value of numeric_only in DataFrameGroupBy.mean is deprecated. In a future version, numeric_only will default to False. Either specify numeric_only or select only columns which should be valid for the function.\n",
      "  capacity = df_copy.groupby(['charge_nb']).mean()['interpolated_capacity'].to_numpy().reshape(-1, 1)\n",
      "/home/dh2409/Documents/LIB/fixed-point-model/utils.py:17: FutureWarning: The default value of numeric_only in DataFrameGroupBy.mean is deprecated. In a future version, numeric_only will default to False. Either specify numeric_only or select only columns which should be valid for the function.\n",
      "  capacity = df_copy.groupby(['charge_nb']).mean()['interpolated_capacity'].to_numpy().reshape(-1, 1)\n",
      "/home/dh2409/Documents/LIB/fixed-point-model/utils.py:17: FutureWarning: The default value of numeric_only in DataFrameGroupBy.mean is deprecated. In a future version, numeric_only will default to False. Either specify numeric_only or select only columns which should be valid for the function.\n",
      "  capacity = df_copy.groupby(['charge_nb']).mean()['interpolated_capacity'].to_numpy().reshape(-1, 1)\n",
      "/home/dh2409/Documents/LIB/fixed-point-model/utils.py:17: FutureWarning: The default value of numeric_only in DataFrameGroupBy.mean is deprecated. In a future version, numeric_only will default to False. Either specify numeric_only or select only columns which should be valid for the function.\n",
      "  capacity = df_copy.groupby(['charge_nb']).mean()['interpolated_capacity'].to_numpy().reshape(-1, 1)\n",
      "/home/dh2409/Documents/LIB/fixed-point-model/utils.py:17: FutureWarning: The default value of numeric_only in DataFrameGroupBy.mean is deprecated. In a future version, numeric_only will default to False. Either specify numeric_only or select only columns which should be valid for the function.\n",
      "  capacity = df_copy.groupby(['charge_nb']).mean()['interpolated_capacity'].to_numpy().reshape(-1, 1)\n",
      "/home/dh2409/Documents/LIB/fixed-point-model/utils.py:17: FutureWarning: The default value of numeric_only in DataFrameGroupBy.mean is deprecated. In a future version, numeric_only will default to False. Either specify numeric_only or select only columns which should be valid for the function.\n",
      "  capacity = df_copy.groupby(['charge_nb']).mean()['interpolated_capacity'].to_numpy().reshape(-1, 1)\n",
      "/home/dh2409/Documents/LIB/fixed-point-model/utils.py:17: FutureWarning: The default value of numeric_only in DataFrameGroupBy.mean is deprecated. In a future version, numeric_only will default to False. Either specify numeric_only or select only columns which should be valid for the function.\n",
      "  capacity = df_copy.groupby(['charge_nb']).mean()['interpolated_capacity'].to_numpy().reshape(-1, 1)\n",
      "/home/dh2409/Documents/LIB/fixed-point-model/utils.py:17: FutureWarning: The default value of numeric_only in DataFrameGroupBy.mean is deprecated. In a future version, numeric_only will default to False. Either specify numeric_only or select only columns which should be valid for the function.\n",
      "  capacity = df_copy.groupby(['charge_nb']).mean()['interpolated_capacity'].to_numpy().reshape(-1, 1)\n",
      "/home/dh2409/Documents/LIB/fixed-point-model/utils.py:17: FutureWarning: The default value of numeric_only in DataFrameGroupBy.mean is deprecated. In a future version, numeric_only will default to False. Either specify numeric_only or select only columns which should be valid for the function.\n",
      "  capacity = df_copy.groupby(['charge_nb']).mean()['interpolated_capacity'].to_numpy().reshape(-1, 1)\n"
     ]
    }
   ],
   "source": [
    "cross = [0.2, 0.4, 0.7, 1, 0.2, 0.4, 0.7, 1, 0.2, 0.4, 0.7, 1, 0.2, 0.4, 0.7, 1,]\n",
    "\n",
    "size = {}\n",
    "size[5] = len(global_df[5])\n",
    "size[6] = len(global_df[6])\n",
    "size[7] = len(global_df[7])\n",
    "size[18] = len(global_df[18])\n",
    "\n",
    "index = {}\n",
    "index[5] = [(0,0.2)]\n",
    "index[6] = [(0.2,0.4)]\n",
    "index[7] = [(0.4,0.7)]\n",
    "index[18] = [(0.7,1.)]\n",
    "X_test, Y_test = split_set(index)\n",
    "\n",
    "index = {}\n",
    "index[5] = [(0.4,1)]\n",
    "index[6] = [(0.4,1)]\n",
    "index[7] = [(0.2,0.4),(0.7,1)]\n",
    "index[18] = [(0.2,0.7)]\n",
    "X_train, Y_train = split_set(index)\n",
    "\n",
    "index = {}\n",
    "index[5] = [(0.2,0.4)]\n",
    "index[6] = [(0,0.2)]\n",
    "index[7] = [(0,0.2)]\n",
    "index[18] = [(0,0.2)]\n",
    "X_val, Y_val = split_set(index)"
   ]
  },
  {
   "cell_type": "code",
   "execution_count": null,
   "metadata": {
    "execution": {
     "iopub.execute_input": "2022-10-11T04:15:38.418779Z",
     "iopub.status.busy": "2022-10-11T04:15:38.418544Z",
     "iopub.status.idle": "2022-10-11T04:17:46.675030Z",
     "shell.execute_reply": "2022-10-11T04:17:46.673373Z",
     "shell.execute_reply.started": "2022-10-11T04:15:38.418757Z"
    }
   },
   "outputs": [
    {
     "name": "stdout",
     "output_type": "stream",
     "text": [
      "Trainable params: 19999\n",
      "sample size: 303\n",
      "target size: 303\n",
      "epoch:0  | loss:1.2937106 | MAPE:19.4799 | RMSE:0.5465 | RE:1.0000\n",
      "epoch:100 | loss:0.0057470 | MAPE:1.0234 | RMSE:0.0371 | RE:1.0000\n",
      "epoch:200 | loss:0.0032956 | MAPE:0.9485 | RMSE:0.0349 | RE:1.0000\n",
      "epoch:300 | loss:0.0016259 | MAPE:0.9511 | RMSE:0.0345 | RE:1.0000\n",
      "epoch:400 | loss:0.0012323 | MAPE:0.9031 | RMSE:0.0330 | RE:1.0000\n",
      "epoch:500 | loss:0.0008173 | MAPE:0.8190 | RMSE:0.0312 | RE:1.0000\n",
      "epoch:600 | loss:0.0005740 | MAPE:0.8187 | RMSE:0.0312 | RE:1.0000\n",
      "epoch:700 | loss:0.0004557 | MAPE:0.8126 | RMSE:0.0313 | RE:1.0000\n",
      "epoch:800 | loss:0.0004144 | MAPE:0.7851 | RMSE:0.0305 | RE:1.0000\n",
      "epoch:900 | loss:0.0003602 | MAPE:0.7680 | RMSE:0.0301 | RE:1.0000\n",
      "epoch:1000 | loss:0.0003806 | MAPE:0.7599 | RMSE:0.0300 | RE:1.0000\n",
      "epoch:1100 | loss:0.0003614 | MAPE:0.7582 | RMSE:0.0297 | RE:1.0000\n",
      "epoch:1200 | loss:0.0003555 | MAPE:0.7375 | RMSE:0.0297 | RE:1.0000\n",
      "epoch:1300 | loss:0.0003538 | MAPE:0.7354 | RMSE:0.0294 | RE:1.0000\n"
     ]
    }
   ],
   "source": [
    "path = 'cross3_v'+str(ver)\n",
    "if not os.path.isdir(path):\n",
    "    os.mkdir(path)\n",
    "model = Regressor('bert-trainposcode', 'LSTM_bi', True, 1, args.embed_dim, args.hidden_dim, args.dropout)\n",
    "print(f\"Trainable params: {sum(p.numel() for p in model.parameters() if p.requires_grad)}\")\n",
    "_,_,_,_,_ = build_and_train(model,path,(X_train,Y_train,X_val,Y_val,X_test,Y_test),args.num_epochs,0,args.dropout)"
   ]
  },
  {
   "cell_type": "code",
   "execution_count": null,
   "metadata": {
    "execution": {
     "iopub.execute_input": "2022-10-11T04:17:46.679273Z",
     "iopub.status.busy": "2022-10-11T04:17:46.678860Z",
     "iopub.status.idle": "2022-10-11T04:17:46.704736Z",
     "shell.execute_reply": "2022-10-11T04:17:46.703583Z",
     "shell.execute_reply.started": "2022-10-11T04:17:46.679239Z"
    }
   },
   "outputs": [],
   "source": [
    "path_model = os.listdir(path)[0]\n",
    "model = torch.load(os.path.join(path,path_model))\n",
    "mape3,mae3,rmse3 = test(model, X_test, Y_test, starting_point=0,maximum=maximum,minimum=minimum)"
   ]
  },
  {
   "cell_type": "code",
   "execution_count": null,
   "metadata": {
    "execution": {
     "iopub.execute_input": "2022-10-11T04:17:46.706635Z",
     "iopub.status.busy": "2022-10-11T04:17:46.706156Z",
     "iopub.status.idle": "2022-10-11T04:17:46.711685Z",
     "shell.execute_reply": "2022-10-11T04:17:46.710950Z",
     "shell.execute_reply.started": "2022-10-11T04:17:46.706608Z"
    }
   },
   "outputs": [],
   "source": [
    "print(\"Mean of rmse:\",(rmse1+rmse2+rmse3)/3)\n",
    "print(\"Mean of mape:\",(mape1+mape2+mape3)/3)"
   ]
  }
 ],
 "metadata": {
  "kernelspec": {
   "display_name": "Python 3",
   "language": "python",
   "name": "python3"
  },
  "language_info": {
   "codemirror_mode": {
    "name": "ipython",
    "version": 3
   },
   "file_extension": ".py",
   "mimetype": "text/x-python",
   "name": "python",
   "nbconvert_exporter": "python",
   "pygments_lexer": "ipython3",
   "version": "3.8.13"
  }
 },
 "nbformat": 4,
 "nbformat_minor": 4
}
